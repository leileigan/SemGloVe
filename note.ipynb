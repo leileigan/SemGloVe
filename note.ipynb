{
 "cells": [
  {
   "cell_type": "code",
   "execution_count": 15,
   "metadata": {},
   "outputs": [],
   "source": [
    "from transformers import RobertaTokenizer, RobertaForMaskedLM, BertTokenizer, BertForMaskedLM, AlbertTokenizer\n",
    "import torch"
   ]
  },
  {
   "cell_type": "code",
   "execution_count": 16,
   "metadata": {},
   "outputs": [
    {
     "name": "stderr",
     "output_type": "stream",
     "text": [
      "Some weights of the model checkpoint at /data/ganleilei/bert/bert-base-uncased were not used when initializing BertForMaskedLM: ['cls.seq_relationship.weight', 'cls.seq_relationship.bias']\n",
      "- This IS expected if you are initializing BertForMaskedLM from the checkpoint of a model trained on another task or with another architecture (e.g. initializing a BertForSequenceClassification model from a BertForPreTraining model).\n",
      "- This IS NOT expected if you are initializing BertForMaskedLM from the checkpoint of a model that you expect to be exactly identical (initializing a BertForSequenceClassification model from a BertForSequenceClassification model).\n"
     ]
    }
   ],
   "source": [
    "tokenizer = RobertaTokenizer.from_pretrained(\"/data/ganleilei/bert/roberta-large\", add_prefix_space=True)\n",
    "bert_tokenizer = BertTokenizer.from_pretrained(\"/data/ganleilei/bert/bert-base-uncased\")\n",
    "model = RobertaForMaskedLM.from_pretrained(\"/data/ganleilei/bert/roberta-large/\")\n",
    "bert_model = BertForMaskedLM.from_pretrained(\"/data/ganleilei/bert/bert-base-uncased\")"
   ]
  },
  {
   "cell_type": "code",
   "execution_count": 30,
   "metadata": {},
   "outputs": [
    {
     "name": "stdout",
     "output_type": "stream",
     "text": [
      "len: 13\n",
      "inputs: torch.Size([1, 22])\n",
      "input tokens: ['<s>', 'Ġanarchism', 'Ġis', 'Ġa', 'Ġ[', 'MAS', 'K', ']', 'Ġphilosophy', 'Ġthat', 'Ġadvocates', 'Ġself', '-', 'govern', 'ed', 'Ġsocieties', 'Ġbased', 'Ġon', 'Ġvoluntary', 'Ġinstitutions', '.', '</s>']\n",
      "bert input tokens: ['[CLS]', 'ana', '##rch', '##ism', 'is', 'a', '[MASK]', 'philosophy', 'that', 'advocates', 'self', '-', 'governed', 'societies', 'based', 'on', 'voluntary', 'institutions', '.', '[SEP]']\n",
      "input str: <s> anarchism is a [MASK] philosophy that advocates self-governed societies based on voluntary institutions.</s>\n"
     ]
    }
   ],
   "source": [
    "sent = \"anarchism is a [MASK] philosophy that advocates self-governed societies based on voluntary institutions.\" \n",
    "sent_list = sent.strip().split()\n",
    "print(\"len:\", len(sent_list))\n",
    "inputs = tokenizer(sent, return_tensors=\"pt\")\n",
    "bert_inputs = bert_tokenizer(sent, return_tensors=\"pt\")\n",
    "print(\"inputs:\", inputs['input_ids'].size())\n",
    "input_tokens = tokenizer.convert_ids_to_tokens(inputs['input_ids'][0])\n",
    "bert_input_tokens = bert_tokenizer.convert_ids_to_tokens(bert_inputs['input_ids'][0])\n",
    "print(\"input tokens:\", input_tokens)\n",
    "print(\"bert input tokens:\", bert_input_tokens)\n",
    "input_str = tokenizer.convert_tokens_to_string(input_tokens)\n",
    "print(\"input str:\", input_str)"
   ]
  },
  {
   "cell_type": "code",
   "execution_count": 31,
   "metadata": {},
   "outputs": [],
   "source": [
    "with torch.no_grad():\n",
    "    logits = bert_model(**bert_inputs).logits\n",
    "\n",
    "values, predictions= torch.topk(logits, k=10, dim=-1, largest=True)"
   ]
  },
  {
   "cell_type": "code",
   "execution_count": 32,
   "metadata": {},
   "outputs": [
    {
     "name": "stdout",
     "output_type": "stream",
     "text": [
      "['political', 'social', 'marxist', 'philosophical', 'feminist', 'moral', 'libertarian', 'socialist', 'sociological', 'liberal']\n"
     ]
    }
   ],
   "source": [
    "pred_tokens = bert_tokenizer.convert_ids_to_tokens(predictions[0, 6, :])\n",
    "print(pred_tokens)"
   ]
  },
  {
   "cell_type": "code",
   "execution_count": 8,
   "metadata": {},
   "outputs": [],
   "source": [
    "albert_tokenizer = AlbertTokenizer.from_pretrained(\"/data/ganleilei/bert/albert/albert-xxlarge-v2/\")\n",
    "roberta_tokenizer = RobertaTokenizer.from_pretrained(\"/data/ganleilei/bert/roberta-large\", add_prefix_space=True)\n",
    "fout = open(\"data/vocab/wiki.roberta.word.bpe.txt\", \"w+\")\n",
    "for line in open(\"data/vocab/vocab.wiki.word.txt\"):\n",
    "    word = line.strip().split()[0]\n",
    "    fout.write(word+\"\\t\" +\" \".join(roberta_tokenizer._tokenize(word)) + '\\n')\n",
    "    whitespace_word = \" \" + word\n",
    "    fout.write(\"###\"+word+\"\\t\" +\" \".join(roberta_tokenizer._tokenize(whitespace_word)).lower() + '\\n')\n",
    "    # fout.write(word+\"\\t\" + \" \".join(albert_tokenizer._tokenize(word))+'\\n')\n",
    "\n",
    "fout.close()"
   ]
  },
  {
   "cell_type": "code",
   "execution_count": 10,
   "metadata": {},
   "outputs": [
    {
     "name": "stdout",
     "output_type": "stream",
     "text": [
      "['[CLS]', '▁an', 'arch', 'ism', '▁an', 'arch', 'ism', '▁is', '▁a', '▁political', '▁philosophy', '▁that', '▁advocates', '▁self', '-', 'go', 'vern', 'ed', '▁societies', '▁based', '▁on', '▁voluntary', '▁institutions', '.', '[SEP]']\n",
      "['▁state']\n"
     ]
    }
   ],
   "source": [
    "bpes = albert_tokenizer(sent)\n",
    "input_tokens = albert_tokenizer.convert_ids_to_tokens(bpes['input_ids'])\n",
    "print(input_tokens)\n",
    "print(albert_tokenizer._tokenize(\"state\"))"
   ]
  },
  {
   "cell_type": "code",
   "execution_count": 11,
   "metadata": {},
   "outputs": [
    {
     "name": "stdout",
     "output_type": "stream",
     "text": [
      "<class 'transformers.models.roberta.tokenization_roberta.RobertaTokenizer'>\n",
      "['<s>', 'Ġanarchism', 'Ġanarchism', 'Ġis', 'Ġa', 'Ġpolitical', 'Ġphilosophy', 'Ġthat', 'Ġadvocates', 'Ġself', '-', 'govern', 'ed', 'Ġsocieties', 'Ġbased', 'Ġon', 'Ġvoluntary', 'Ġinstitutions', 'Ġ.', '</s>']\n"
     ]
    }
   ],
   "source": [
    "print(type(roberta_tokenizer))\n",
    "bpes = roberta_tokenizer(\"anarchism anarchism is a political philosophy that advocates self-governed societies based on voluntary institutions .\")\n",
    "print(roberta_tokenizer.convert_ids_to_tokens(bpes[\"input_ids\"]))"
   ]
  }
 ],
 "metadata": {
  "interpreter": {
   "hash": "51bffc458a0ead8386303ca3bdfc3181b5061cea39a392939286569453416fc0"
  },
  "kernelspec": {
   "display_name": "Python 3.7.3 64-bit ('lawqa': conda)",
   "name": "python3"
  },
  "language_info": {
   "codemirror_mode": {
    "name": "ipython",
    "version": 3
   },
   "file_extension": ".py",
   "mimetype": "text/x-python",
   "name": "python",
   "nbconvert_exporter": "python",
   "pygments_lexer": "ipython3",
   "version": "3.7.3"
  },
  "orig_nbformat": 4
 },
 "nbformat": 4,
 "nbformat_minor": 2
}
